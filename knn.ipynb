{
 "cells": [
  {
   "cell_type": "code",
   "execution_count": 107,
   "metadata": {},
   "outputs": [],
   "source": [
    "from sklearn import datasets\n",
    "import numpy as np\n",
    "from sklearn.model_selection import train_test_split\n",
    "from collections import Counter"
   ]
  },
  {
   "cell_type": "code",
   "execution_count": 108,
   "metadata": {},
   "outputs": [],
   "source": [
    "df = datasets.load_iris()\n",
    "X = df.data\n",
    "\n",
    "# 0: setosa, 1: versicolor, 2: virginica\n",
    "y = df.target\n",
    "\n",
    "# Splitting the dataset into train and test set\n",
    "X_train, X_test, y_train, y_test = train_test_split(X, y, test_size=0.3, random_state=42)\n",
    "\n",
    "# Function to calculate the euclidean distance\n",
    "def euclidean_distance(x1, x2):\n",
    "    return np.sqrt(np.sum((x1 - x2)**2))\n",
    "\n",
    "# Function to calculate the manhattan distance\n",
    "def manhattan_distance(x1, x2):\n",
    "    return np.sum(np.abs(x1 - x2))\n",
    "\n",
    "def cosinus_distance(x1, x2):\n",
    "    # Calculate the dot product between the two vectors\n",
    "    dot_product = np.dot(x1, x2)\n",
    "\n",
    "    # Calculate the L2 norm of the first vector\n",
    "    norm_x1 = np.linalg.norm(x1)\n",
    "\n",
    "    # Calculate the L2 norm of the second vector\n",
    "    norm_x2 = np.linalg.norm(x2)\n",
    "\n",
    "    # Calculate the cosine similarity\n",
    "    cosine_similarity = dot_product / (norm_x1 * norm_x2)\n",
    "\n",
    "    # Calculate the cosine distance\n",
    "    cosine_distance = 1 - cosine_similarity\n",
    "    \n",
    "    return cosine_distance\n",
    "\n",
    "# KNN class\n",
    "class KNN:\n",
    "    def __init__(self, k=3, weighted=False):\n",
    "        self.k = k\n",
    "        self.weighted = weighted\n",
    "    \n",
    "    def fit(self, X, y):\n",
    "        self.X_train = X\n",
    "        self.y_train = y\n",
    "    \n",
    "    def predict(self, X, metric='euclidean'):\n",
    "        y_pred = [self._predict(x, metric) for x in X]\n",
    "        return np.array(y_pred)\n",
    "    \n",
    "    def _predict(self, x, metric='euclidean'):\n",
    "        # Compute distances between x and all examples in the training set\n",
    "        if metric == 'euclidean':\n",
    "            distances = [euclidean_distance(x, x_train) for x_train in self.X_train]\n",
    "        elif metric == 'manhattan':\n",
    "            distances = [manhattan_distance(x, x_train) for x_train in self.X_train]\n",
    "        elif metric == 'cosinus':\n",
    "            distances = [cosinus_distance(x, x_train) for x_train in self.X_train]\n",
    "        else:\n",
    "            raise NotImplementedError()\n",
    "\n",
    "        k_indices = np.argsort(distances)[:self.k]\n",
    "        k_nearest_labels = [self.y_train[i] for i in k_indices]\n",
    "\n",
    "        if self.weighted:\n",
    "            k_nearest_distances = [distances[i] for i in k_indices]\n",
    "\n",
    "            # Calculate the weights\n",
    "            weights = [1 / (distance + 1e-8) for distance in k_nearest_distances]\n",
    "                \n",
    "            # Calculate the weighted sum of the labels\n",
    "            weighted_sum = np.dot(weights, k_nearest_labels)\n",
    "\n",
    "            # Calculate the weighted average\n",
    "            weighted_average = weighted_sum / np.sum(weights)\n",
    "\n",
    "            return weighted_average\n",
    "        else:\n",
    "\n",
    "            # Return the most common class label\n",
    "            most_common = Counter(k_nearest_labels).most_common(1)\n",
    "            return most_common[0][0]\n",
    "    \n",
    "    \n",
    "    def score(self, X_test, y_test, metric='euclidean'):\n",
    "        y_pred = self.predict(X_test, metric)\n",
    "        return np.sum(y_pred == y_test) / len(y_test)"
   ]
  },
  {
   "cell_type": "code",
   "execution_count": 109,
   "metadata": {},
   "outputs": [
    {
     "name": "stdout",
     "output_type": "stream",
     "text": [
      "Predictions: [1 0 2 1 1 0 1 2 1 1 2 0 0 0 0 1 2 1 1 2 0 2 0 2 2 2 2 2 0 0 0 0 1 0 0 2 1\n",
      " 0 0 0 2 1 1 0 0]\n",
      "Accuracy: 1.0\n"
     ]
    }
   ],
   "source": [
    "# Instantiate the model\n",
    "clf = KNN(k=3)\n",
    "\n",
    "# Fit the model\n",
    "clf.fit(X_train, y_train)\n",
    "\n",
    "# Make predictions on the test set\n",
    "predictions = clf.predict(X_test, metric='euclidean')\n",
    "\n",
    "print(\"Predictions:\", predictions)\n",
    "\n",
    "# Calculate the accuracy\n",
    "print(\"Accuracy:\", clf.score(X_test, y_test, metric='euclidean'))"
   ]
  },
  {
   "cell_type": "code",
   "execution_count": 110,
   "metadata": {},
   "outputs": [
    {
     "name": "stdout",
     "output_type": "stream",
     "text": [
      "Predictions: [1 0 2 1 1 0 1 2 1 1 2 0 0 0 0 1 2 1 1 2 0 2 0 2 2 2 2 2 0 0 0 0 1 0 0 2 1\n",
      " 0 0 0 2 1 1 0 0]\n",
      "Accuracy: 1.0\n"
     ]
    }
   ],
   "source": [
    "clf = KNN(k=3)\n",
    "\n",
    "# Fit the model\n",
    "clf.fit(X_train, y_train)\n",
    "\n",
    "# Make predictions on the test set\n",
    "predictions = clf.predict(X_test, metric='manhattan')\n",
    "\n",
    "print(\"Predictions:\", predictions)\n",
    "\n",
    "# Calculate the accuracy\n",
    "print(\"Accuracy:\", clf.score(X_test, y_test, metric='manhattan'))"
   ]
  },
  {
   "cell_type": "code",
   "execution_count": 111,
   "metadata": {},
   "outputs": [
    {
     "name": "stdout",
     "output_type": "stream",
     "text": [
      "Predictions: [1 0 2 1 1 0 1 2 1 1 2 0 0 0 0 1 2 1 1 2 0 2 0 2 1 2 2 2 0 0 0 0 1 0 0 2 1\n",
      " 0 0 0 2 1 1 0 0]\n",
      "Accuracy: 0.9777777777777777\n"
     ]
    }
   ],
   "source": [
    "clf = KNN(k=3)\n",
    "\n",
    "# Fit the model\n",
    "clf.fit(X_train, y_train)\n",
    "\n",
    "# Make predictions on the test set\n",
    "predictions = clf.predict(X_test, metric='cosinus')\n",
    "\n",
    "print(\"Predictions:\", predictions)\n",
    "\n",
    "# Calculate the accuracy\n",
    "print(\"Accuracy:\", clf.score(X_test, y_test, metric='cosinus'))"
   ]
  },
  {
   "cell_type": "code",
   "execution_count": 112,
   "metadata": {},
   "outputs": [
    {
     "name": "stdout",
     "output_type": "stream",
     "text": [
      "Predictions: [1.         0.         2.         1.         1.         0.\n",
      " 1.         2.         1.24440803 1.         1.7519386  0.\n",
      " 0.         0.         0.         1.31717204 2.         1.\n",
      " 1.         2.         0.         2.         0.         2.\n",
      " 2.         2.         2.         2.         0.         0.\n",
      " 0.         0.         1.         0.         0.         2.\n",
      " 1.         0.         0.         0.         2.         1.\n",
      " 1.         0.         0.        ]\n",
      "Accuracy: 0.9333333333333333\n"
     ]
    }
   ],
   "source": [
    "clf = KNN(k=3, weighted=True)\n",
    "\n",
    "clf.fit(X_train, y_train)\n",
    "\n",
    "# Make predictions on the test set\n",
    "predictions = clf.predict(X_test, metric='euclidean')\n",
    "\n",
    "print(\"Predictions:\", predictions)\n",
    "\n",
    "# Calculate the accuracy\n",
    "print(\"Accuracy:\", clf.score(X_test, y_test, metric='euclidean'))\n"
   ]
  },
  {
   "cell_type": "code",
   "execution_count": 113,
   "metadata": {},
   "outputs": [
    {
     "name": "stdout",
     "output_type": "stream",
     "text": [
      "Predictions: [1.         0.         2.         1.         1.         0.\n",
      " 1.         2.         1.30534351 1.         1.8        0.\n",
      " 0.         0.         0.         1.         2.         1.\n",
      " 1.         2.         0.         2.         0.         2.\n",
      " 2.         2.         2.         2.         0.         0.\n",
      " 0.         0.         1.         0.         0.         1.67567568\n",
      " 1.         0.         0.         0.         1.99999998 1.\n",
      " 1.         0.         0.        ]\n",
      "Accuracy: 0.9111111111111111\n"
     ]
    }
   ],
   "source": [
    "\n",
    "clf = KNN(k=3, weighted=True)\n",
    "clf.fit(X_train, y_train)\n",
    "\n",
    "# Make predictions on the test set\n",
    "predictions = clf.predict(X_test, metric='manhattan')\n",
    "\n",
    "print(\"Predictions:\", predictions)\n",
    "\n",
    "# Calculate the accuracy\n",
    "print(\"Accuracy:\", clf.score(X_test, y_test, metric='manhattan'))"
   ]
  },
  {
   "cell_type": "code",
   "execution_count": 114,
   "metadata": {},
   "outputs": [
    {
     "name": "stdout",
     "output_type": "stream",
     "text": [
      "Predictions: [1.        0.        2.        1.        1.        0.        1.\n",
      " 2.        1.        1.        2.        0.        0.        0.\n",
      " 0.        1.        2.        1.        1.        2.        0.\n",
      " 2.        0.        2.        1.3207108 2.        2.        2.\n",
      " 0.        0.        0.        0.        1.        0.        0.\n",
      " 2.        1.        0.        0.        0.        2.        1.\n",
      " 1.        0.        0.       ]\n",
      "Accuracy: 0.9777777777777777\n"
     ]
    }
   ],
   "source": [
    "clf = KNN(k=3, weighted=True)\n",
    "clf.fit(X_train, y_train)\n",
    "\n",
    "# Make predictions on the test set\n",
    "predictions = clf.predict(X_test, metric='cosinus')\n",
    "\n",
    "print(\"Predictions:\", predictions)\n",
    "\n",
    "# Calculate the accuracy\n",
    "print(\"Accuracy:\", clf.score(X_test, y_test, metric='cosinus'))"
   ]
  }
 ],
 "metadata": {
  "kernelspec": {
   "display_name": ".venv",
   "language": "python",
   "name": "python3"
  },
  "language_info": {
   "codemirror_mode": {
    "name": "ipython",
    "version": 3
   },
   "file_extension": ".py",
   "mimetype": "text/x-python",
   "name": "python",
   "nbconvert_exporter": "python",
   "pygments_lexer": "ipython3",
   "version": "3.11.2"
  },
  "orig_nbformat": 4
 },
 "nbformat": 4,
 "nbformat_minor": 2
}
